{
 "cells": [
  {
   "cell_type": "code",
   "execution_count": 154,
   "metadata": {},
   "outputs": [],
   "source": [
    "import pandas as pd"
   ]
  },
  {
   "cell_type": "code",
   "execution_count": 329,
   "metadata": {},
   "outputs": [],
   "source": [
    "def find_target_series(alpha, filtered_z):\n",
    "    target_sr = -1\n",
    "    counter = 0\n",
    "    last_sr_visited = -1\n",
    "    while(counter < len(filtered_z)):\n",
    "        last_col_val = filtered_z.iloc[counter, -1]\n",
    "        if(last_col_val > alpha): # if last value of a current series is greater than alpha\n",
    "            target_sr = filtered_z.iloc[counter] # it is the target series\n",
    "            break\n",
    "        last_sr_visited = filtered_z.iloc[counter]  #save previous visited series for future use\n",
    "        counter += 1\n",
    "    if((not isinstance(target_sr, int) and target_sr[0] > alpha) or (alpha >=0.5 and alpha < 1 and not isinstance(last_sr_visited, int))): #if first value of the target series is greater than alpha, \n",
    "        target_sr = last_sr_visited #go back to last visited series\n",
    "    return target_sr"
   ]
  },
  {
   "cell_type": "code",
   "execution_count": 330,
   "metadata": {},
   "outputs": [],
   "source": [
    "def filter_z(alpha, filtered_z):\n",
    "    target_sr = find_target_series(alpha, filtered_z)\n",
    "    if(isinstance(target_sr, int)):\n",
    "        print(\"Value not available\")\n",
    "        return\n",
    "    target_sr = target_sr.dropna()\n",
    "    diff_sr = target_sr.apply(lambda x: abs(alpha - x)) # calculate difference of each value with alpha\n",
    "    return round(float(diff_sr.idxmin()) + float(diff_sr.name), 2) # pick min difference and add its indices\n"
   ]
  },
  {
   "cell_type": "code",
   "execution_count": 331,
   "metadata": {},
   "outputs": [],
   "source": [
    "def find_cr_region(alpha):\n",
    "    try:\n",
    "        z_df = pd.read_csv(\"z_table.csv\", index_col=\"z\")\n",
    "        decimal_len = len(str(alpha))\n",
    "        low = round(alpha - 0.05, decimal_len)\n",
    "        high = round(alpha + 0.05, decimal_len)\n",
    "        filtered_z = z_df[(z_df >= low) & (z_df <= high)].dropna(how=\"all\")\n",
    "        if(filtered_z.shape[0] == 0):\n",
    "            print(\"Value not available\")\n",
    "            return\n",
    "        val = filter_z(alpha, filtered_z)\n",
    "        return val\n",
    "    except:\n",
    "        print(\"Something Went wrong or Invalid Input\")\n",
    "    \n",
    "            "
   ]
  },
  {
   "cell_type": "code",
   "execution_count": 337,
   "metadata": {},
   "outputs": [
    {
     "data": {
      "text/plain": [
       "1.19"
      ]
     },
     "execution_count": 337,
     "metadata": {},
     "output_type": "execute_result"
    }
   ],
   "source": [
    "find_cr_region(0.9)"
   ]
  },
  {
   "cell_type": "code",
   "execution_count": null,
   "metadata": {},
   "outputs": [],
   "source": []
  },
  {
   "cell_type": "code",
   "execution_count": null,
   "metadata": {},
   "outputs": [],
   "source": []
  }
 ],
 "metadata": {
  "kernelspec": {
   "display_name": "Python 3",
   "language": "python",
   "name": "python3"
  },
  "language_info": {
   "codemirror_mode": {
    "name": "ipython",
    "version": 3
   },
   "file_extension": ".py",
   "mimetype": "text/x-python",
   "name": "python",
   "nbconvert_exporter": "python",
   "pygments_lexer": "ipython3",
   "version": "3.7.1"
  }
 },
 "nbformat": 4,
 "nbformat_minor": 2
}
